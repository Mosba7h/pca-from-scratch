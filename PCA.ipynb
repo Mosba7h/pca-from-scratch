{
  "cells": [
    {
      "cell_type": "code",
      "execution_count": null,
      "metadata": {
        "id": "YsdK8pjcYpXZ"
      },
      "outputs": [],
      "source": [
        "import pandas as pd\n",
        "import numpy as np\n",
        "import matplotlib.pyplot as plt"
      ]
    },
    {
      "cell_type": "code",
      "execution_count": null,
      "metadata": {
        "id": "IZ4PekgaYpXf"
      },
      "outputs": [],
      "source": [
        "df = pd.read_csv('CC GENERAL.csv')\n",
        "df.drop('CUST_ID', axis=1, inplace=True)\n",
        "df['MINIMUM_PAYMENTS'] = df['MINIMUM_PAYMENTS'].fillna(df['MINIMUM_PAYMENTS'].mean())\n",
        "df = df.dropna(axis = 0, subset = ['CREDIT_LIMIT'])"
      ]
    },
    {
      "cell_type": "code",
      "execution_count": null,
      "metadata": {
        "id": "0gtCBUSPYpXg"
      },
      "outputs": [],
      "source": [
        "# from _typeshed import Self\n",
        "class PCA ():\n",
        "\n",
        "    def __init__(self,n_components = 0.95):\n",
        "        self.n_components = n_components\n",
        "        if self.n_components > 1:\n",
        "            self.type = 'var'\n",
        "        else:\n",
        "            self.type = 'ratio'\n",
        "\n",
        "    def fit(self,X):\n",
        "        self.mean=X.mean(axis=0)\n",
        "        self.std=X.std(axis=0)\n",
        "        X = (X - self.mean) / self.std\n",
        "        C = np.cov(X)\n",
        "\n",
        "        eigenvalues, eigenvectors = np.linalg.eig(C)\n",
        "        if self.type == 'var':\n",
        "          sorted_indices = np.argsort(eigenvalues)[::-1]\n",
        "          self.components = eigenvectors[:, sorted_indices[:self.n_components]]\n",
        "\n",
        "\n",
        "        else:\n",
        "            total_variance = np.sum(eigenvalues)\n",
        "            explained_variance_ratio = eigenvalues / total_variance\n",
        "            cumulative_explained_variance_ratio = np.cumsum(explained_variance_ratio)\n",
        "            selected_components = np.where(cumulative_explained_variance_ratio >= self.n_components)[0][0] + 1\n",
        "            self.components = eigenvectors[:, :selected_components]\n",
        "\n",
        "\n",
        "\n",
        "\n",
        "    def transform(self, Z):\n",
        "        Z_new = (Z_new - self.mean) / self.std\n",
        "        Z_transformed = np.dot(Z_new, self.components)\n",
        "        return Z_transformed\n",
        "\n",
        "\n",
        "    #optional\n",
        "    def plot_explained_variance(self):\n",
        "        pass\n",
        "\n"
      ]
    },
    {
      "cell_type": "code",
      "source": [
        "class PCA():\n",
        "\n",
        "    def __init__(self, n_components=0.95):\n",
        "        self.n_components = n_components\n",
        "        if self.n_components > 1:\n",
        "            self.type = 'var'\n",
        "        else:\n",
        "            self.type = 'ratio'\n",
        "\n",
        "    def fit(self, X):\n",
        "        self.mean = X.mean(axis=0)\n",
        "        self.std = X.std(axis=0)\n",
        "        X_std = (X - self.mean) / self.std\n",
        "        self.C = np.cov(X_std.T)\n",
        "\n",
        "        eigenvalues, eigenvectors = np.linalg.eig(self.C)\n",
        "        if self.type == 'var':\n",
        "            sorted_indices = np.argsort(eigenvalues)[::-1]\n",
        "            self.components = eigenvectors[:, sorted_indices[:self.n_components]]\n",
        "        else:\n",
        "            total_variance = np.sum(eigenvalues)\n",
        "            self.explained_variance_ratio = eigenvalues / total_variance\n",
        "            self.cumulative_explained_variance_ratio = np.cumsum( self.explained_variance_ratio)\n",
        "            selected_components = np.where( self.cumulative_explained_variance_ratio >= self.n_components) [0][0]\n",
        "            self.components = eigenvectors[:, :selected_components]\n",
        "\n",
        "    def transform(self, Z):\n",
        "        Z_new = (Z -self.mean)\n",
        "        Z_transformed = np.dot(Z_new, self.components)\n",
        "        return Z_transformed\n",
        "\n",
        "    # optional\n",
        "    def plot_explained_variance(self):\n",
        "        plt.plot(self.cumulative_explained_variance_ratio)\n",
        "        plt.axhline(y=0.95, color='r', linestyle='--')\n",
        "        plt.show()"
      ],
      "metadata": {
        "id": "E0we1V1tpnQx"
      },
      "execution_count": null,
      "outputs": []
    },
    {
      "cell_type": "code",
      "execution_count": null,
      "metadata": {
        "id": "PPR7EPTGYpXh"
      },
      "outputs": [],
      "source": [
        "pca_section = PCA(n_components=.95)\n",
        "X_transofmed = pca_section.fit(df.values)"
      ]
    },
    {
      "cell_type": "code",
      "execution_count": null,
      "metadata": {
        "colab": {
          "base_uri": "https://localhost:8080/"
        },
        "id": "mjzKXAHhYpXi",
        "outputId": "cfab484a-c8bd-4575-bb35-d7ab11e0065c"
      },
      "outputs": [
        {
          "output_type": "stream",
          "name": "stdout",
          "text": [
            "(17, 11)\n",
            "expected shape: (17,5)\n"
          ]
        }
      ],
      "source": [
        "print(pca_section.components.shape)\n",
        "print(\"expected shape: (17,5)\")"
      ]
    },
    {
      "source": [
        "pca_section.transform(df.values).shape"
      ],
      "cell_type": "code",
      "metadata": {
        "colab": {
          "base_uri": "https://localhost:8080/"
        },
        "id": "Jd2_RWpAhRVo",
        "outputId": "7dc23692-9fd8-4cfe-829b-beae4c2c6413"
      },
      "execution_count": null,
      "outputs": [
        {
          "output_type": "execute_result",
          "data": {
            "text/plain": [
              "(8949, 11)"
            ]
          },
          "metadata": {},
          "execution_count": 156
        }
      ]
    },
    {
      "cell_type": "code",
      "source": [
        "pca_section.plot_explained_variance()"
      ],
      "metadata": {
        "colab": {
          "base_uri": "https://localhost:8080/",
          "height": 430
        },
        "id": "b9rzRZAQsDgH",
        "outputId": "ba1a2e5b-87cb-44b2-fd8e-53a6b0d2050a"
      },
      "execution_count": null,
      "outputs": [
        {
          "output_type": "display_data",
          "data": {
            "text/plain": [
              "<Figure size 640x480 with 1 Axes>"
            ],
            "image/png": "[encoded data removed]"
          },
          "metadata": {}
        }
      ]
    },
    {
      "cell_type": "code",
      "source": [],
      "metadata": {
        "id": "9hqa0Ja0Be28"
      },
      "execution_count": null,
      "outputs": []
    }
  ],
  "metadata": {
    "kernelspec": {
      "display_name": "base",
      "language": "python",
      "name": "python3"
    },
    "language_info": {
      "codemirror_mode": {
        "name": "ipython",
        "version": 3
      },
      "file_extension": ".py",
      "mimetype": "text/x-python",
      "name": "python",
      "nbconvert_exporter": "python",
      "pygments_lexer": "ipython3",
      "version": "3.9.12"
    },
    "colab": {
      "provenance": []
    }
  },
  "nbformat": 4,
  "nbformat_minor": 0
}